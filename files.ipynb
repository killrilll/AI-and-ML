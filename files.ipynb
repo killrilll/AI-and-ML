{
 "cells": [
  {
   "cell_type": "code",
   "execution_count": 35,
   "id": "6f83ca3b-c535-4d36-a097-12c63d22cdb1",
   "metadata": {},
   "outputs": [
    {
     "name": "stdout",
     "output_type": "stream",
     "text": [
      "Содержимое файла:\n",
      " Первая строка\n",
      "Вторая строка\n",
      "\n",
      "Файл существует:  True\n",
      "Файл удален\n"
     ]
    }
   ],
   "source": [
    "import os\n",
    "\n",
    "with open(\"text.txt\", \"w\") as f:\n",
    "    f.write(\"Первая строка\\n\")\n",
    "    f.write(\"Вторая строка\\n\")\n",
    "\n",
    "with open(\"text.txt\", \"r\") as f:\n",
    "    content = f.read()\n",
    "    print(\"Содержимое файла:\\n\", content)\n",
    "\n",
    "print(\"Файл существует: \", os.path.exists(\"text.txt\"))\n",
    "\n",
    "os.remove(\"text.txt\")\n",
    "print(\"Файл удален\")"
   ]
  },
  {
   "cell_type": "code",
   "execution_count": null,
   "id": "ecd06f53-ff21-43f6-b04e-ea0bdb501304",
   "metadata": {},
   "outputs": [],
   "source": []
  },
  {
   "cell_type": "code",
   "execution_count": null,
   "id": "1bbbcd9e-a49f-4be7-8dec-31d83f9850d2",
   "metadata": {},
   "outputs": [],
   "source": []
  }
 ],
 "metadata": {
  "kernelspec": {
   "display_name": "Python [conda env:base] *",
   "language": "python",
   "name": "conda-base-py"
  },
  "language_info": {
   "codemirror_mode": {
    "name": "ipython",
    "version": 3
   },
   "file_extension": ".py",
   "mimetype": "text/x-python",
   "name": "python",
   "nbconvert_exporter": "python",
   "pygments_lexer": "ipython3",
   "version": "3.12.7"
  }
 },
 "nbformat": 4,
 "nbformat_minor": 5
}
