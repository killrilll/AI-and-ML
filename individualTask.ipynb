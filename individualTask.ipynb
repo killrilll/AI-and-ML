{
  "nbformat": 4,
  "nbformat_minor": 0,
  "metadata": {
    "colab": {
      "provenance": [],
      "gpuType": "V28",
      "authorship_tag": "ABX9TyPfqaqmtwj+YE2eQrNS5HWy",
      "include_colab_link": true
    },
    "kernelspec": {
      "name": "python3",
      "display_name": "Python 3"
    },
    "language_info": {
      "name": "python"
    },
    "accelerator": "TPU"
  },
  "cells": [
    {
      "cell_type": "markdown",
      "metadata": {
        "id": "view-in-github",
        "colab_type": "text"
      },
      "source": [
        "<a href=\"https://colab.research.google.com/github/killrilll/AI-and-ML/blob/main/individualTask.ipynb\" target=\"_parent\"><img src=\"https://colab.research.google.com/assets/colab-badge.svg\" alt=\"Open In Colab\"/></a>"
      ]
    },
    {
      "cell_type": "markdown",
      "source": [
        "# Практическое задание №1\n",
        "\n",
        "**Привет**, *Кирилл*! Добро пожаловать в **Google Colab**!\n",
        "\n",
        "\n",
        "1.   Google Colab\n",
        "2.   JupyterLab\n",
        "\n",
        "\n",
        "*   Jupyter Notebook\n",
        "*   Google Colab\n",
        "\n",
        "## Вариант 8\n",
        "\n",
        "sin(x) = $\\sum^\\infty_{n=0} (-1)^n \\frac{x^{2n+1}}{(2n+1)!}$\n",
        "\n",
        "\n",
        "\n",
        "\n"
      ],
      "metadata": {
        "id": "NOtRS8gFwbcj"
      }
    },
    {
      "cell_type": "code",
      "source": [
        "name = input(\"Введите имя: \")\n",
        "print(f\"Привет, {name}! Добро пожаловать в Google Colab!\")"
      ],
      "metadata": {
        "id": "nSr3Nvp6wRgk",
        "colab": {
          "base_uri": "https://localhost:8080/"
        },
        "outputId": "da0636dd-0716-4e99-f717-ce6b057c20fa"
      },
      "execution_count": 1,
      "outputs": [
        {
          "output_type": "stream",
          "name": "stdout",
          "text": [
            "Введите имя: Kirill\n",
            "Привет, Kirill! Добро пожаловать в Google Colab!\n"
          ]
        }
      ]
    },
    {
      "cell_type": "code",
      "source": [],
      "metadata": {
        "id": "-O5j0DPZEpOk"
      },
      "execution_count": null,
      "outputs": []
    }
  ]
}